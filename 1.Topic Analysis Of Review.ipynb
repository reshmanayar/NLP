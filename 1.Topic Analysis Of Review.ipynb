{
 "cells": [
  {
   "cell_type": "code",
   "execution_count": 1,
   "id": "0e0be161",
   "metadata": {},
   "outputs": [],
   "source": [
    "import pandas as pd\n",
    "import numpy as np\n",
    "import nltk"
   ]
  },
  {
   "cell_type": "code",
   "execution_count": 2,
   "id": "3f0aef95",
   "metadata": {},
   "outputs": [],
   "source": [
    "import warnings\n",
    "warnings.filterwarnings('ignore')"
   ]
  },
  {
   "cell_type": "code",
   "execution_count": 3,
   "id": "2724bb95",
   "metadata": {},
   "outputs": [],
   "source": [
    "import pyLDAvis\n",
    "import pyLDAvis.gensim_models"
   ]
  },
  {
   "cell_type": "code",
   "execution_count": 4,
   "id": "b5f9a618",
   "metadata": {},
   "outputs": [
    {
     "name": "stderr",
     "output_type": "stream",
     "text": [
      "C:\\Users\\hp\\anaconda3\\lib\\site-packages\\ipykernel\\ipkernel.py:287: DeprecationWarning: `should_run_async` will not call `transform_cell` automatically in the future. Please pass the result to `transformed_cell` argument and any exception that happen during thetransform in `preprocessing_exc_tuple` in IPython 7.17 and above.\n",
      "  and should_run_async(code)\n"
     ]
    },
    {
     "data": {
      "text/html": [
       "<div>\n",
       "<style scoped>\n",
       "    .dataframe tbody tr th:only-of-type {\n",
       "        vertical-align: middle;\n",
       "    }\n",
       "\n",
       "    .dataframe tbody tr th {\n",
       "        vertical-align: top;\n",
       "    }\n",
       "\n",
       "    .dataframe thead th {\n",
       "        text-align: right;\n",
       "    }\n",
       "</style>\n",
       "<table border=\"1\" class=\"dataframe\">\n",
       "  <thead>\n",
       "    <tr style=\"text-align: right;\">\n",
       "      <th></th>\n",
       "      <th>sentiment</th>\n",
       "      <th>review</th>\n",
       "    </tr>\n",
       "  </thead>\n",
       "  <tbody>\n",
       "    <tr>\n",
       "      <th>0</th>\n",
       "      <td>1</td>\n",
       "      <td>Good but need updates and improvements</td>\n",
       "    </tr>\n",
       "    <tr>\n",
       "      <th>1</th>\n",
       "      <td>0</td>\n",
       "      <td>Worst mobile i have bought ever, Battery is dr...</td>\n",
       "    </tr>\n",
       "    <tr>\n",
       "      <th>2</th>\n",
       "      <td>1</td>\n",
       "      <td>when I will get my 10% cash back.... its alrea...</td>\n",
       "    </tr>\n",
       "    <tr>\n",
       "      <th>3</th>\n",
       "      <td>1</td>\n",
       "      <td>Good</td>\n",
       "    </tr>\n",
       "    <tr>\n",
       "      <th>4</th>\n",
       "      <td>0</td>\n",
       "      <td>The worst phone everThey have changed the last...</td>\n",
       "    </tr>\n",
       "  </tbody>\n",
       "</table>\n",
       "</div>"
      ],
      "text/plain": [
       "   sentiment                                             review\n",
       "0          1             Good but need updates and improvements\n",
       "1          0  Worst mobile i have bought ever, Battery is dr...\n",
       "2          1  when I will get my 10% cash back.... its alrea...\n",
       "3          1                                               Good\n",
       "4          0  The worst phone everThey have changed the last..."
      ]
     },
     "execution_count": 4,
     "metadata": {},
     "output_type": "execute_result"
    }
   ],
   "source": [
    "#1.Read the .csv file using Pandas. Take a look at the top few records.\n",
    "data=pd.read_csv(r\"C:\\Users\\hp\\Downloads\\NLP\\My_Projects\\1.Topic Analysis of Review Data\\K8 Reviews v0.2.csv\")\n",
    "data.head()"
   ]
  },
  {
   "cell_type": "code",
   "execution_count": 5,
   "id": "284d2a3e",
   "metadata": {},
   "outputs": [
    {
     "name": "stderr",
     "output_type": "stream",
     "text": [
      "C:\\Users\\hp\\anaconda3\\lib\\site-packages\\ipykernel\\ipkernel.py:287: DeprecationWarning: `should_run_async` will not call `transform_cell` automatically in the future. Please pass the result to `transformed_cell` argument and any exception that happen during thetransform in `preprocessing_exc_tuple` in IPython 7.17 and above.\n",
      "  and should_run_async(code)\n"
     ]
    },
    {
     "data": {
      "text/plain": [
       "0    7712\n",
       "1    6963\n",
       "Name: sentiment, dtype: int64"
      ]
     },
     "execution_count": 5,
     "metadata": {},
     "output_type": "execute_result"
    }
   ],
   "source": [
    "data['sentiment'].value_counts()"
   ]
  },
  {
   "cell_type": "code",
   "execution_count": 6,
   "id": "5b9837cc",
   "metadata": {},
   "outputs": [
    {
     "name": "stderr",
     "output_type": "stream",
     "text": [
      "C:\\Users\\hp\\anaconda3\\lib\\site-packages\\ipykernel\\ipkernel.py:287: DeprecationWarning: `should_run_async` will not call `transform_cell` automatically in the future. Please pass the result to `transformed_cell` argument and any exception that happen during thetransform in `preprocessing_exc_tuple` in IPython 7.17 and above.\n",
      "  and should_run_async(code)\n"
     ]
    },
    {
     "data": {
      "text/plain": [
       "array(['Good but need updates and improvements',\n",
       "       \"Worst mobile i have bought ever, Battery is draining like hell, backup is only 6 to 7 hours with internet uses, even if I put mobile idle its getting discharged.This is biggest lie from Amazon & Lenove which is not at all expected, they are making full by saying that battery is 4000MAH & booster charger is fake, it takes at least 4 to 5 hours to be fully charged.Don't know how Lenovo will survive by making full of us.Please don;t go for this else you will regret like me.\",\n",
       "       'when I will get my 10% cash back.... its already 15 January..',\n",
       "       'Good',\n",
       "       'The worst phone everThey have changed the last phone but the problem is still same and the amazon is not returning the phone .Highly disappointing of amazon'],\n",
       "      dtype=object)"
      ]
     },
     "execution_count": 6,
     "metadata": {},
     "output_type": "execute_result"
    }
   ],
   "source": [
    "#2.Normalize casings for the review text and extract the text into a list for easier manipulation\n",
    "review=data['review'].values\n",
    "review[:5]"
   ]
  },
  {
   "cell_type": "code",
   "execution_count": 7,
   "id": "912629a2",
   "metadata": {},
   "outputs": [
    {
     "name": "stderr",
     "output_type": "stream",
     "text": [
      "C:\\Users\\hp\\anaconda3\\lib\\site-packages\\ipykernel\\ipkernel.py:287: DeprecationWarning: `should_run_async` will not call `transform_cell` automatically in the future. Please pass the result to `transformed_cell` argument and any exception that happen during thetransform in `preprocessing_exc_tuple` in IPython 7.17 and above.\n",
      "  and should_run_async(code)\n"
     ]
    },
    {
     "data": {
      "text/plain": [
       "['good but need updates and improvements',\n",
       " \"worst mobile i have bought ever, battery is draining like hell, backup is only 6 to 7 hours with internet uses, even if i put mobile idle its getting discharged.this is biggest lie from amazon & lenove which is not at all expected, they are making full by saying that battery is 4000mah & booster charger is fake, it takes at least 4 to 5 hours to be fully charged.don't know how lenovo will survive by making full of us.please don;t go for this else you will regret like me.\",\n",
       " 'when i will get my 10% cash back.... its already 15 january..',\n",
       " 'good',\n",
       " 'the worst phone everthey have changed the last phone but the problem is still same and the amazon is not returning the phone .highly disappointing of amazon']"
      ]
     },
     "execution_count": 7,
     "metadata": {},
     "output_type": "execute_result"
    }
   ],
   "source": [
    "review0=[i.lower() for i in review]\n",
    "review0[:5]"
   ]
  },
  {
   "cell_type": "code",
   "execution_count": 8,
   "id": "591f2da6",
   "metadata": {},
   "outputs": [
    {
     "name": "stderr",
     "output_type": "stream",
     "text": [
      "C:\\Users\\hp\\anaconda3\\lib\\site-packages\\ipykernel\\ipkernel.py:287: DeprecationWarning: `should_run_async` will not call `transform_cell` automatically in the future. Please pass the result to `transformed_cell` argument and any exception that happen during thetransform in `preprocessing_exc_tuple` in IPython 7.17 and above.\n",
      "  and should_run_async(code)\n"
     ]
    }
   ],
   "source": [
    "#3.Tokenize the reviews using NLTKs word_tokenize function.\n",
    "from nltk.tokenize import word_tokenize"
   ]
  },
  {
   "cell_type": "code",
   "execution_count": 9,
   "id": "1011bef9",
   "metadata": {},
   "outputs": [
    {
     "name": "stdout",
     "output_type": "stream",
     "text": [
      "good but need updates and improvements\n"
     ]
    },
    {
     "name": "stderr",
     "output_type": "stream",
     "text": [
      "C:\\Users\\hp\\anaconda3\\lib\\site-packages\\ipykernel\\ipkernel.py:287: DeprecationWarning: `should_run_async` will not call `transform_cell` automatically in the future. Please pass the result to `transformed_cell` argument and any exception that happen during thetransform in `preprocessing_exc_tuple` in IPython 7.17 and above.\n",
      "  and should_run_async(code)\n"
     ]
    }
   ],
   "source": [
    "print(review0[0])"
   ]
  },
  {
   "cell_type": "code",
   "execution_count": 10,
   "id": "37dd5bf3",
   "metadata": {},
   "outputs": [
    {
     "name": "stderr",
     "output_type": "stream",
     "text": [
      "C:\\Users\\hp\\anaconda3\\lib\\site-packages\\ipykernel\\ipkernel.py:287: DeprecationWarning: `should_run_async` will not call `transform_cell` automatically in the future. Please pass the result to `transformed_cell` argument and any exception that happen during thetransform in `preprocessing_exc_tuple` in IPython 7.17 and above.\n",
      "  and should_run_async(code)\n"
     ]
    },
    {
     "name": "stdout",
     "output_type": "stream",
     "text": [
      "['good', 'but', 'need', 'updates', 'and', 'improvements']\n"
     ]
    }
   ],
   "source": [
    "rev_tokens=[word_tokenize(i) for i in review0]\n",
    "print(rev_tokens[0])"
   ]
  },
  {
   "cell_type": "code",
   "execution_count": 11,
   "id": "1741323a",
   "metadata": {},
   "outputs": [
    {
     "name": "stderr",
     "output_type": "stream",
     "text": [
      "C:\\Users\\hp\\anaconda3\\lib\\site-packages\\ipykernel\\ipkernel.py:287: DeprecationWarning: `should_run_async` will not call `transform_cell` automatically in the future. Please pass the result to `transformed_cell` argument and any exception that happen during thetransform in `preprocessing_exc_tuple` in IPython 7.17 and above.\n",
      "  and should_run_async(code)\n"
     ]
    }
   ],
   "source": [
    "#4.Perform parts-of-speech tagging on each sentence using the NLTK POS tagger.\n",
    "\n",
    "from nltk import pos_tag\n",
    "rev_pos=[pos_tag(i) for i in rev_tokens]\n"
   ]
  },
  {
   "cell_type": "code",
   "execution_count": 12,
   "id": "c55d4fb8",
   "metadata": {},
   "outputs": [
    {
     "name": "stderr",
     "output_type": "stream",
     "text": [
      "C:\\Users\\hp\\anaconda3\\lib\\site-packages\\ipykernel\\ipkernel.py:287: DeprecationWarning: `should_run_async` will not call `transform_cell` automatically in the future. Please pass the result to `transformed_cell` argument and any exception that happen during thetransform in `preprocessing_exc_tuple` in IPython 7.17 and above.\n",
      "  and should_run_async(code)\n"
     ]
    },
    {
     "data": {
      "text/plain": [
       "[('when', 'WRB'),\n",
       " ('i', 'NN'),\n",
       " ('will', 'MD'),\n",
       " ('get', 'VB'),\n",
       " ('my', 'PRP$'),\n",
       " ('10', 'CD'),\n",
       " ('%', 'NN'),\n",
       " ('cash', 'NN'),\n",
       " ('back', 'RB'),\n",
       " ('....', 'VBZ'),\n",
       " ('its', 'PRP$'),\n",
       " ('already', 'RB'),\n",
       " ('15', 'CD'),\n",
       " ('january', 'JJ'),\n",
       " ('..', 'NN')]"
      ]
     },
     "execution_count": 12,
     "metadata": {},
     "output_type": "execute_result"
    }
   ],
   "source": [
    "rev_pos[2]"
   ]
  },
  {
   "cell_type": "code",
   "execution_count": 13,
   "id": "36aa2574",
   "metadata": {},
   "outputs": [
    {
     "name": "stderr",
     "output_type": "stream",
     "text": [
      "C:\\Users\\hp\\anaconda3\\lib\\site-packages\\ipykernel\\ipkernel.py:287: DeprecationWarning: `should_run_async` will not call `transform_cell` automatically in the future. Please pass the result to `transformed_cell` argument and any exception that happen during thetransform in `preprocessing_exc_tuple` in IPython 7.17 and above.\n",
      "  and should_run_async(code)\n"
     ]
    },
    {
     "data": {
      "text/plain": [
       "['updates',\n",
       " 'improvements',\n",
       " 'mobile',\n",
       " 'i',\n",
       " 'battery',\n",
       " 'hell',\n",
       " 'backup',\n",
       " 'hours',\n",
       " 'uses',\n",
       " 'idle']"
      ]
     },
     "execution_count": 13,
     "metadata": {},
     "output_type": "execute_result"
    }
   ],
   "source": [
    "#5.For the topic model, we should  want to include only nouns.\n",
    "    #Find out all the POS tags that correspond to nouns.\n",
    "    #Limit the data to only terms with these tags.\n",
    "\n",
    "nouns=[]\n",
    "for row in rev_pos:\n",
    "    for token,pos in row:\n",
    "        if pos.startswith('N'):\n",
    "            nouns.append(token)\n",
    "nouns[:10]\n",
    "\n",
    "    "
   ]
  },
  {
   "cell_type": "code",
   "execution_count": 14,
   "id": "29962f2a",
   "metadata": {},
   "outputs": [
    {
     "name": "stderr",
     "output_type": "stream",
     "text": [
      "C:\\Users\\hp\\anaconda3\\lib\\site-packages\\ipykernel\\ipkernel.py:287: DeprecationWarning: `should_run_async` will not call `transform_cell` automatically in the future. Please pass the result to `transformed_cell` argument and any exception that happen during thetransform in `preprocessing_exc_tuple` in IPython 7.17 and above.\n",
      "  and should_run_async(code)\n"
     ]
    }
   ],
   "source": [
    "#6.Lemmatize\n",
    "from nltk.stem import WordNetLemmatizer\n",
    "lemmatize=WordNetLemmatizer()\n",
    "rev_lem=[lemmatize.lemmatize(words) for words in nouns]"
   ]
  },
  {
   "cell_type": "code",
   "execution_count": 15,
   "id": "1e904a5a",
   "metadata": {},
   "outputs": [
    {
     "name": "stderr",
     "output_type": "stream",
     "text": [
      "C:\\Users\\hp\\anaconda3\\lib\\site-packages\\ipykernel\\ipkernel.py:287: DeprecationWarning: `should_run_async` will not call `transform_cell` automatically in the future. Please pass the result to `transformed_cell` argument and any exception that happen during thetransform in `preprocessing_exc_tuple` in IPython 7.17 and above.\n",
      "  and should_run_async(code)\n"
     ]
    },
    {
     "data": {
      "text/plain": [
       "['update',\n",
       " 'improvement',\n",
       " 'mobile',\n",
       " 'i',\n",
       " 'battery',\n",
       " 'hell',\n",
       " 'backup',\n",
       " 'hour',\n",
       " 'us',\n",
       " 'idle']"
      ]
     },
     "execution_count": 15,
     "metadata": {},
     "output_type": "execute_result"
    }
   ],
   "source": [
    "rev_lem[:10]"
   ]
  },
  {
   "cell_type": "code",
   "execution_count": 16,
   "id": "b406dbf2",
   "metadata": {},
   "outputs": [
    {
     "name": "stderr",
     "output_type": "stream",
     "text": [
      "C:\\Users\\hp\\anaconda3\\lib\\site-packages\\ipykernel\\ipkernel.py:287: DeprecationWarning: `should_run_async` will not call `transform_cell` automatically in the future. Please pass the result to `transformed_cell` argument and any exception that happen during thetransform in `preprocessing_exc_tuple` in IPython 7.17 and above.\n",
      "  and should_run_async(code)\n"
     ]
    }
   ],
   "source": [
    "#7.Remove stopwords and punctuation \n",
    "from nltk.corpus import stopwords\n",
    "from string import punctuation"
   ]
  },
  {
   "cell_type": "code",
   "execution_count": 17,
   "id": "81b09e3c",
   "metadata": {},
   "outputs": [
    {
     "name": "stderr",
     "output_type": "stream",
     "text": [
      "C:\\Users\\hp\\anaconda3\\lib\\site-packages\\ipykernel\\ipkernel.py:287: DeprecationWarning: `should_run_async` will not call `transform_cell` automatically in the future. Please pass the result to `transformed_cell` argument and any exception that happen during thetransform in `preprocessing_exc_tuple` in IPython 7.17 and above.\n",
      "  and should_run_async(code)\n"
     ]
    }
   ],
   "source": [
    "stop_nltk=stopwords.words('english')\n",
    "stop_punc=list(punctuation)\n",
    "stop_punc.extend(['...','``',\"''\",\"..\"])"
   ]
  },
  {
   "cell_type": "code",
   "execution_count": 18,
   "id": "67596db6",
   "metadata": {},
   "outputs": [
    {
     "name": "stderr",
     "output_type": "stream",
     "text": [
      "C:\\Users\\hp\\anaconda3\\lib\\site-packages\\ipykernel\\ipkernel.py:287: DeprecationWarning: `should_run_async` will not call `transform_cell` automatically in the future. Please pass the result to `transformed_cell` argument and any exception that happen during thetransform in `preprocessing_exc_tuple` in IPython 7.17 and above.\n",
      "  and should_run_async(code)\n"
     ]
    }
   ],
   "source": [
    "stop_final=stop_nltk+stop_punc\n",
    "def del_stop(sent):\n",
    "    return [term for term in sent if term not in stop_final]"
   ]
  },
  {
   "cell_type": "code",
   "execution_count": 19,
   "id": "54084d67",
   "metadata": {},
   "outputs": [
    {
     "name": "stderr",
     "output_type": "stream",
     "text": [
      "C:\\Users\\hp\\anaconda3\\lib\\site-packages\\ipykernel\\ipkernel.py:287: DeprecationWarning: `should_run_async` will not call `transform_cell` automatically in the future. Please pass the result to `transformed_cell` argument and any exception that happen during thetransform in `preprocessing_exc_tuple` in IPython 7.17 and above.\n",
      "  and should_run_async(code)\n"
     ]
    },
    {
     "data": {
      "text/plain": [
       "['update',\n",
       " 'improvement',\n",
       " 'mobile',\n",
       " 'battery',\n",
       " 'hell',\n",
       " 'backup',\n",
       " 'hour',\n",
       " 'us',\n",
       " 'idle']"
      ]
     },
     "execution_count": 19,
     "metadata": {},
     "output_type": "execute_result"
    }
   ],
   "source": [
    "del_stop(rev_lem[:10])"
   ]
  },
  {
   "cell_type": "code",
   "execution_count": 20,
   "id": "107156f3",
   "metadata": {},
   "outputs": [
    {
     "name": "stderr",
     "output_type": "stream",
     "text": [
      "C:\\Users\\hp\\anaconda3\\lib\\site-packages\\ipykernel\\ipkernel.py:287: DeprecationWarning: `should_run_async` will not call `transform_cell` automatically in the future. Please pass the result to `transformed_cell` argument and any exception that happen during thetransform in `preprocessing_exc_tuple` in IPython 7.17 and above.\n",
      "  and should_run_async(code)\n"
     ]
    }
   ],
   "source": [
    "rev_final=del_stop(rev_lem)"
   ]
  },
  {
   "cell_type": "code",
   "execution_count": 21,
   "id": "fb039f12",
   "metadata": {},
   "outputs": [
    {
     "name": "stderr",
     "output_type": "stream",
     "text": [
      "C:\\Users\\hp\\anaconda3\\lib\\site-packages\\ipykernel\\ipkernel.py:287: DeprecationWarning: `should_run_async` will not call `transform_cell` automatically in the future. Please pass the result to `transformed_cell` argument and any exception that happen during thetransform in `preprocessing_exc_tuple` in IPython 7.17 and above.\n",
      "  and should_run_async(code)\n"
     ]
    },
    {
     "data": {
      "text/plain": [
       "['update',\n",
       " 'improvement',\n",
       " 'mobile',\n",
       " 'battery',\n",
       " 'hell',\n",
       " 'backup',\n",
       " 'hour',\n",
       " 'us',\n",
       " 'idle',\n",
       " 'discharged.this']"
      ]
     },
     "execution_count": 21,
     "metadata": {},
     "output_type": "execute_result"
    }
   ],
   "source": [
    "rev_final[:10]"
   ]
  },
  {
   "cell_type": "code",
   "execution_count": 22,
   "id": "3accb914",
   "metadata": {},
   "outputs": [
    {
     "name": "stderr",
     "output_type": "stream",
     "text": [
      "C:\\Users\\hp\\anaconda3\\lib\\site-packages\\ipykernel\\ipkernel.py:287: DeprecationWarning: `should_run_async` will not call `transform_cell` automatically in the future. Please pass the result to `transformed_cell` argument and any exception that happen during thetransform in `preprocessing_exc_tuple` in IPython 7.17 and above.\n",
      "  and should_run_async(code)\n"
     ]
    },
    {
     "data": {
      "text/plain": [
       "87740"
      ]
     },
     "execution_count": 22,
     "metadata": {},
     "output_type": "execute_result"
    }
   ],
   "source": [
    "len(rev_final)"
   ]
  },
  {
   "cell_type": "markdown",
   "id": "ad6fea9e",
   "metadata": {},
   "source": [
    "# Use counter to get top nouns/keywords for all the reviews"
   ]
  },
  {
   "cell_type": "code",
   "execution_count": 23,
   "id": "c75e201b",
   "metadata": {},
   "outputs": [
    {
     "name": "stderr",
     "output_type": "stream",
     "text": [
      "C:\\Users\\hp\\anaconda3\\lib\\site-packages\\ipykernel\\ipkernel.py:287: DeprecationWarning: `should_run_async` will not call `transform_cell` automatically in the future. Please pass the result to `transformed_cell` argument and any exception that happen during thetransform in `preprocessing_exc_tuple` in IPython 7.17 and above.\n",
      "  and should_run_async(code)\n"
     ]
    }
   ],
   "source": [
    "from collections import Counter"
   ]
  },
  {
   "cell_type": "code",
   "execution_count": 24,
   "id": "b1eece97",
   "metadata": {},
   "outputs": [
    {
     "name": "stderr",
     "output_type": "stream",
     "text": [
      "C:\\Users\\hp\\anaconda3\\lib\\site-packages\\ipykernel\\ipkernel.py:287: DeprecationWarning: `should_run_async` will not call `transform_cell` automatically in the future. Please pass the result to `transformed_cell` argument and any exception that happen during thetransform in `preprocessing_exc_tuple` in IPython 7.17 and above.\n",
      "  and should_run_async(code)\n"
     ]
    },
    {
     "data": {
      "text/plain": [
       "[('phone', 7007),\n",
       " ('camera', 3273),\n",
       " ('battery', 3143),\n",
       " ('product', 2261),\n",
       " ('problem', 1565),\n",
       " ('mobile', 1517),\n",
       " ('issue', 1490),\n",
       " ('quality', 1387),\n",
       " ('note', 1163),\n",
       " ('lenovo', 1003),\n",
       " ('time', 1003),\n",
       " ('performance', 952),\n",
       " ('price', 924),\n",
       " ('day', 897),\n",
       " ('feature', 841)]"
      ]
     },
     "execution_count": 24,
     "metadata": {},
     "output_type": "execute_result"
    }
   ],
   "source": [
    "all_clean= Counter(rev_final)\n",
    "all_clean.most_common(15)"
   ]
  },
  {
   "cell_type": "code",
   "execution_count": 25,
   "id": "fe00ada3",
   "metadata": {},
   "outputs": [
    {
     "name": "stderr",
     "output_type": "stream",
     "text": [
      "C:\\Users\\hp\\anaconda3\\lib\\site-packages\\ipykernel\\ipkernel.py:287: DeprecationWarning: `should_run_async` will not call `transform_cell` automatically in the future. Please pass the result to `transformed_cell` argument and any exception that happen during thetransform in `preprocessing_exc_tuple` in IPython 7.17 and above.\n",
      "  and should_run_async(code)\n",
      "C:\\Users\\hp\\anaconda3\\lib\\site-packages\\requests\\packages\\urllib3\\util\\selectors.py:11: DeprecationWarning: Using or importing the ABCs from 'collections' instead of from 'collections.abc' is deprecated since Python 3.3, and in 3.9 it will stop working\n",
      "  from collections import namedtuple, Mapping\n",
      "C:\\Users\\hp\\anaconda3\\lib\\site-packages\\requests\\packages\\urllib3\\_collections.py:2: DeprecationWarning: Using or importing the ABCs from 'collections' instead of from 'collections.abc' is deprecated since Python 3.3, and in 3.9 it will stop working\n",
      "  from collections import Mapping, MutableMapping\n",
      "C:\\Users\\hp\\anaconda3\\lib\\site-packages\\scipy\\sparse\\sparsetools.py:21: DeprecationWarning: `scipy.sparse.sparsetools` is deprecated!\n",
      "scipy.sparse.sparsetools is a private module for scipy.sparse, and should not be used.\n",
      "  _deprecated()\n"
     ]
    }
   ],
   "source": [
    "#8.Create a topic model using LDA on the cleaned-up data with 12 topics\n",
    "import gensim\n",
    "from gensim import corpora\n",
    "rev_out=[rev_final]\n",
    "dictionary=corpora.Dictionary(rev_out)"
   ]
  },
  {
   "cell_type": "code",
   "execution_count": 26,
   "id": "b88830c6",
   "metadata": {},
   "outputs": [
    {
     "name": "stderr",
     "output_type": "stream",
     "text": [
      "C:\\Users\\hp\\anaconda3\\lib\\site-packages\\ipykernel\\ipkernel.py:287: DeprecationWarning: `should_run_async` will not call `transform_cell` automatically in the future. Please pass the result to `transformed_cell` argument and any exception that happen during thetransform in `preprocessing_exc_tuple` in IPython 7.17 and above.\n",
      "  and should_run_async(code)\n"
     ]
    }
   ],
   "source": [
    "from sklearn.decomposition import LatentDirichletAllocation, TruncatedSVD\n",
    "from sklearn.feature_extraction.text import CountVectorizer, TfidfVectorizer\n",
    "from sklearn.model_selection import GridSearchCV\n",
    "from pprint import pprint"
   ]
  },
  {
   "cell_type": "code",
   "execution_count": 27,
   "id": "69189f2a",
   "metadata": {},
   "outputs": [
    {
     "name": "stderr",
     "output_type": "stream",
     "text": [
      "C:\\Users\\hp\\anaconda3\\lib\\site-packages\\ipykernel\\ipkernel.py:287: DeprecationWarning: `should_run_async` will not call `transform_cell` automatically in the future. Please pass the result to `transformed_cell` argument and any exception that happen during thetransform in `preprocessing_exc_tuple` in IPython 7.17 and above.\n",
      "  and should_run_async(code)\n",
      "C:\\Users\\hp\\anaconda3\\lib\\site-packages\\matplotlib\\__init__.py:169: DeprecationWarning: distutils Version classes are deprecated. Use packaging.version instead.\n",
      "  if LooseVersion(module.__version__) < minver:\n",
      "C:\\Users\\hp\\anaconda3\\lib\\site-packages\\setuptools\\_distutils\\version.py:346: DeprecationWarning: distutils Version classes are deprecated. Use packaging.version instead.\n",
      "  other = LooseVersion(other)\n",
      "C:\\Users\\hp\\anaconda3\\lib\\site-packages\\matplotlib\\__init__.py:169: DeprecationWarning: distutils Version classes are deprecated. Use packaging.version instead.\n",
      "  if LooseVersion(module.__version__) < minver:\n",
      "C:\\Users\\hp\\anaconda3\\lib\\site-packages\\setuptools\\_distutils\\version.py:346: DeprecationWarning: distutils Version classes are deprecated. Use packaging.version instead.\n",
      "  other = LooseVersion(other)\n",
      "C:\\Users\\hp\\anaconda3\\lib\\site-packages\\matplotlib\\__init__.py:169: DeprecationWarning: distutils Version classes are deprecated. Use packaging.version instead.\n",
      "  if LooseVersion(module.__version__) < minver:\n",
      "C:\\Users\\hp\\anaconda3\\lib\\site-packages\\setuptools\\_distutils\\version.py:346: DeprecationWarning: distutils Version classes are deprecated. Use packaging.version instead.\n",
      "  other = LooseVersion(other)\n",
      "C:\\Users\\hp\\anaconda3\\lib\\site-packages\\matplotlib\\__init__.py:169: DeprecationWarning: distutils Version classes are deprecated. Use packaging.version instead.\n",
      "  if LooseVersion(module.__version__) < minver:\n",
      "C:\\Users\\hp\\anaconda3\\lib\\site-packages\\setuptools\\_distutils\\version.py:346: DeprecationWarning: distutils Version classes are deprecated. Use packaging.version instead.\n",
      "  other = LooseVersion(other)\n",
      "C:\\Users\\hp\\anaconda3\\lib\\site-packages\\matplotlib\\__init__.py:169: DeprecationWarning: distutils Version classes are deprecated. Use packaging.version instead.\n",
      "  if LooseVersion(module.__version__) < minver:\n",
      "C:\\Users\\hp\\anaconda3\\lib\\site-packages\\setuptools\\_distutils\\version.py:346: DeprecationWarning: distutils Version classes are deprecated. Use packaging.version instead.\n",
      "  other = LooseVersion(other)\n"
     ]
    }
   ],
   "source": [
    "import pyLDAvis\n",
    "import pyLDAvis.sklearn\n",
    "import matplotlib.pyplot as plt\n",
    "%matplotlib inline"
   ]
  },
  {
   "cell_type": "code",
   "execution_count": 28,
   "id": "ff92ab7e",
   "metadata": {},
   "outputs": [
    {
     "name": "stderr",
     "output_type": "stream",
     "text": [
      "C:\\Users\\hp\\anaconda3\\lib\\site-packages\\ipykernel\\ipkernel.py:287: DeprecationWarning: `should_run_async` will not call `transform_cell` automatically in the future. Please pass the result to `transformed_cell` argument and any exception that happen during thetransform in `preprocessing_exc_tuple` in IPython 7.17 and above.\n",
      "  and should_run_async(code)\n"
     ]
    }
   ],
   "source": [
    "vectorizer = CountVectorizer(analyzer='word',       \n",
    "                             min_df=10,                        # minimum reqd occurences of a word \n",
    "                             stop_words='english',             # remove stop words\n",
    "                                               # convert all words to lowercase\n",
    "                             token_pattern='[a-zA-Z0-9]{3,}',  # num chars > 3\n",
    "                             # max_features=50000,             # max number of uniq words\n",
    "                            )\n"
   ]
  },
  {
   "cell_type": "code",
   "execution_count": 29,
   "id": "1a76a59c",
   "metadata": {},
   "outputs": [
    {
     "name": "stderr",
     "output_type": "stream",
     "text": [
      "C:\\Users\\hp\\anaconda3\\lib\\site-packages\\ipykernel\\ipkernel.py:287: DeprecationWarning: `should_run_async` will not call `transform_cell` automatically in the future. Please pass the result to `transformed_cell` argument and any exception that happen during thetransform in `preprocessing_exc_tuple` in IPython 7.17 and above.\n",
      "  and should_run_async(code)\n"
     ]
    }
   ],
   "source": [
    "rev_new = [word.lower() for word in rev_final]\n",
    "data_vectorized = vectorizer.fit_transform(rev_final)"
   ]
  },
  {
   "cell_type": "code",
   "execution_count": 35,
   "id": "32a8f340",
   "metadata": {},
   "outputs": [
    {
     "name": "stderr",
     "output_type": "stream",
     "text": [
      "C:\\Users\\hp\\anaconda3\\lib\\site-packages\\ipykernel\\ipkernel.py:287: DeprecationWarning: `should_run_async` will not call `transform_cell` automatically in the future. Please pass the result to `transformed_cell` argument and any exception that happen during thetransform in `preprocessing_exc_tuple` in IPython 7.17 and above.\n",
      "  and should_run_async(code)\n"
     ]
    },
    {
     "name": "stdout",
     "output_type": "stream",
     "text": [
      "LatentDirichletAllocation(n_components=12)\n"
     ]
    }
   ],
   "source": [
    "lda_model=LatentDirichletAllocation(n_components=12)\n",
    "\n",
    "lda_output = lda_model.fit_transform(data_vectorized)\n",
    "print(lda_model)"
   ]
  },
  {
   "cell_type": "code",
   "execution_count": 36,
   "id": "3fa200ed",
   "metadata": {},
   "outputs": [
    {
     "name": "stderr",
     "output_type": "stream",
     "text": [
      "C:\\Users\\hp\\anaconda3\\lib\\site-packages\\ipykernel\\ipkernel.py:287: DeprecationWarning: `should_run_async` will not call `transform_cell` automatically in the future. Please pass the result to `transformed_cell` argument and any exception that happen during thetransform in `preprocessing_exc_tuple` in IPython 7.17 and above.\n",
      "  and should_run_async(code)\n"
     ]
    },
    {
     "name": "stdout",
     "output_type": "stream",
     "text": [
      "Perplexity:  186.02649177216912\n",
      "{'batch_size': 128,\n",
      " 'doc_topic_prior': None,\n",
      " 'evaluate_every': -1,\n",
      " 'learning_decay': 0.7,\n",
      " 'learning_method': 'batch',\n",
      " 'learning_offset': 10.0,\n",
      " 'max_doc_update_iter': 100,\n",
      " 'max_iter': 10,\n",
      " 'mean_change_tol': 0.001,\n",
      " 'n_components': 12,\n",
      " 'n_jobs': None,\n",
      " 'perp_tol': 0.1,\n",
      " 'random_state': None,\n",
      " 'topic_word_prior': None,\n",
      " 'total_samples': 1000000.0,\n",
      " 'verbose': 0}\n"
     ]
    }
   ],
   "source": [
    "# See model parameters\n",
    "pprint(lda_model.get_params())"
   ]
  },
  {
   "cell_type": "code",
   "execution_count": 37,
   "id": "8f9067a8",
   "metadata": {},
   "outputs": [
    {
     "name": "stderr",
     "output_type": "stream",
     "text": [
      "C:\\Users\\hp\\anaconda3\\lib\\site-packages\\ipykernel\\ipkernel.py:287: DeprecationWarning: `should_run_async` will not call `transform_cell` automatically in the future. Please pass the result to `transformed_cell` argument and any exception that happen during thetransform in `preprocessing_exc_tuple` in IPython 7.17 and above.\n",
      "  and should_run_async(code)\n"
     ]
    },
    {
     "data": {
      "text/html": [
       "\n",
       "<link rel=\"stylesheet\" type=\"text/css\" href=\"https://cdn.jsdelivr.net/gh/bmabey/pyLDAvis@3.3.1/pyLDAvis/js/ldavis.v1.0.0.css\">\n",
       "\n",
       "\n",
       "<div id=\"ldavis_el1729628292703516482870524045\"></div>\n",
       "<script type=\"text/javascript\">\n",
       "\n",
       "var ldavis_el1729628292703516482870524045_data = {\"mdsDat\": {\"x\": [5.310528755187988, 136.30465698242188, 101.1905517578125, -106.82486724853516, -44.365760803222656, 43.884090423583984, 114.0939712524414, -119.72714233398438, -49.51820755004883, -141.93873596191406, 38.731544494628906, -10.944339752197266], \"y\": [171.04965209960938, 23.800941467285156, -84.98519134521484, 148.84173583984375, 78.63272094726562, 73.4740219116211, 135.9330291748047, -72.07717895507812, -9.617324829101562, 40.05521011352539, -14.776019096374512, -107.19334411621094], \"topics\": [1, 2, 3, 4, 5, 6, 7, 8, 9, 10, 11, 12], \"cluster\": [1, 1, 1, 1, 1, 1, 1, 1, 1, 1, 1, 1], \"Freq\": [10.666849741237428, 9.511104634573217, 9.340126020877747, 8.157094596028525, 8.151004939095785, 8.09315328622695, 7.883294609791925, 7.804597606611763, 7.772509841973202, 7.649545776277288, 7.600828591168225, 7.369890356137924]}, \"tinfo\": {\"Term\": [\"phone\", \"battery\", \"camera\", \"product\", \"problem\", \"mobile\", \"quality\", \"issue\", \"note\", \"lenovo\", \"price\", \"performance\", \"day\", \"time\", \"backup\", \"money\", \"feature\", \"heating\", \"network\", \"screen\", \"month\", \"amazon\", \"service\", \"device\", \"update\", \"mode\", \"hour\", \"display\", \"charger\", \"experience\", \"phone\", \"delivery\", \"mark\", \"picture\", \"support\", \"expectation\", \"mah\", \"button\", \"worth\", \"touch\", \"design\", \"cell\", \"audio\", \"play\", \"drawback\", \"capacity\", \"lover\", \"output\", \"cons\", \"colour\", \"rom\", \"mind\", \"aur\", \"chromecast\", \"couple\", \"smooth\", \"standard\", \"hours\", \"view\", \"mirror\", \"camera\", \"hour\", \"charger\", \"range\", \"sim\", \"drain\", \"usage\", \"hai\", \"power\", \"purchase\", \"flash\", \"internet\", \"key\", \"point\", \"message\", \"class\", \"date\", \"gaming\", \"rate\", \"result\", \"ringtone\", \"friend\", \"improvement\", \"shot\", \"draining\", \"yesterday\", \"mob\", \"processer\", \"menu\", \"icon\", \"issue\", \"time\", \"feature\", \"amazon\", \"option\", \"speaker\", \"software\", \"depth\", \"bit\", \"clarity\", \"killer\", \"super\", \"core\", \"application\", \"lag\", \"brand\", \"warranty\", \"deca\", \"offer\", \"bluetooth\", \"complaint\", \"resolution\", \"whatsapp\", \"discharge\", \"processing\", \"damage\", \"word\", \"doesnt\", \"fone\", \"phon\", \"product\", \"use\", \"life\", \"processor\", \"work\", \"stock\", \"cast\", \"earphone\", \"jio\", \"buy\", \"good\", \"care\", \"dont\", \"connectivity\", \"till\", \"fingerprint\", \"bhi\", \"space\", \"vibe\", \"sir\", \"faulty\", \"background\", \"file\", \"fault\", \"nahi\", \"percentage\", \"log\", \"setup\", \"water\", \"standby\", \"battery\", \"video\", \"glass\", \"apps\", \"android\", \"superb\", \"notification\", \"volta\", \"pic\", \"bug\", \"fast\", \"hardware\", \"cable\", \"wise\", \"interface\", \"medium\", \"lock\", \"fine\", \"strength\", \"kind\", \"future\", \"par\", \"focus\", \"movie\", \"nhi\", \"period\", \"photography\", \"perfect\", \"let\", \"fall\", \"mobile\", \"performance\", \"service\", \"sound\", \"turbo\", \"app\", \"handset\", \"photo\", \"thanks\", \"image\", \"refund\", \"set\", \"policy\", \"management\", \"market\", \"hope\", \"color\", \"choice\", \"youtube\", \"half\", \"pros\", \"caller\", \"job\", \"temperature\", \"k8note\", \"scanner\", \"accessory\", \"properly\", \"forum\", \"tone\", \"problem\", \"screen\", \"lot\", \"speed\", \"ram\", \"data\", \"company\", \"signal\", \"minute\", \"need\", \"item\", \"selfie\", \"jack\", \"number\", \"spec\", \"print\", \"rating\", \"thank\", \"weight\", \"brightness\", \"reason\", \"invoice\", \"process\", \"configuration\", \"defect\", \"level\", \"online\", \"mediatek\", \"net\", \"seller\", \"quality\", \"price\", \"value\", \"card\", \"specification\", \"voice\", \"hand\", \"pls\", \"cost\", \"plz\", \"wifi\", \"cam\", \"recorder\", \"auto\", \"google\", \"person\", \"hanging\", \"request\", \"gud\", \"headset\", \"package\", \"facility\", \"head\", \"deal\", \"pro\", \"oreo\", \"phn\", \"party\", \"scratch\", \"cool\", \"note\", \"day\", \"month\", \"game\", \"music\", \"headphone\", \"light\", \"memory\", \"function\", \"user\", \"slot\", \"excellent\", \"piece\", \"volume\", \"help\", \"player\", \"nice\", \"rest\", \"case\", \"bar\", \"term\", \"bahut\", \"mail\", \"buyer\", \"guard\", \"sims\", \"start\", \"mistake\", \"second\", \"suck\", \"lenovo\", \"backup\", \"heating\", \"device\", \"display\", \"charging\", \"star\", \"center\", \"gallery\", \"gorilla\", \"response\", \"guy\", \"night\", \"rear\", \"team\", \"today\", \"samsung\", \"hell\", \"working\", \"build\", \"cash\", \"difference\", \"bekar\", \"store\", \"max\", \"blur\", \"motion\", \"tha\", \"china\", \"test\", \"money\", \"heat\", \"charge\", \"waste\", \"return\", \"replacement\", \"smartphone\", \"hang\", \"model\", \"effect\", \"atmos\", \"people\", \"centre\", \"moto\", \"version\", \"compare\", \"condition\", \"awesome\", \"feel\", \"recording\", \"cover\", \"storage\", \"solution\", \"body\", \"redmi\", \"segment\", \"order\", \"buying\", \"setting\", \"type\", \"network\", \"update\", \"mode\", \"experience\", \"thing\", \"customer\", \"review\", \"budget\", \"look\", \"dolby\", \"box\", \"week\", \"sensor\", \"contact\", \"min\", \"year\", \"average\", \"sale\", \"way\", \"connection\", \"finger\", \"hotspot\", \"change\", \"exchange\", \"overall\", \"pocket\", \"edge\", \"default\", \"check\", \"song\"], \"Freq\": [5889.0, 3307.0, 3045.0, 2355.0, 1688.0, 1627.0, 1499.0, 1373.0, 1261.0, 1146.0, 1007.0, 1018.0, 974.0, 925.0, 732.0, 725.0, 759.0, 627.0, 598.0, 593.0, 544.0, 560.0, 527.0, 500.0, 446.0, 409.0, 452.0, 404.0, 426.0, 379.0, 5888.225064601868, 182.23497331536055, 152.8268641422802, 139.75659328212242, 130.77078200413723, 112.79915984178008, 109.5315921136721, 94.8275374766564, 86.65861821143463, 80.94037477929969, 67.05321192265448, 53.16604940596679, 39.27888622648339, 37.6451024742549, 35.194426949078995, 34.37753514713023, 32.743751298535955, 30.293075525644536, 23.7579377427497, 18.856588585483433, 18.039696661186085, 15.589020888293835, 14.772128963996348, 13.955237039698787, 13.955237039698787, 13.955236804698668, 13.138345115401167, 13.13834283441752, 12.321452809469212, 11.50456097992228, 3044.238458300793, 451.52011446585465, 425.84963574595093, 345.297444022663, 241.7303406197581, 215.17467305380706, 203.66721707254467, 200.12646119471117, 144.3595595199298, 143.47437060219116, 100.98530247475261, 94.78897999275678, 81.51114619079635, 68.2333124502426, 67.34812359183711, 60.26661208088922, 57.61104548212668, 55.84066749565726, 54.07028972930993, 48.75915619454237, 47.87396737241963, 41.67764493896379, 39.022078181769864, 39.022078181769864, 33.710944667382044, 27.514622071652447, 25.744244395799925, 19.547921962346486, 18.662732786233494, 17.777544124216746, 1372.8944117818398, 924.24293581526, 758.5732291228286, 559.7695809731541, 360.9659329934198, 329.6230155491801, 275.8922998008175, 156.78921338946907, 129.02834364584228, 118.28220044673412, 111.11810500869699, 109.32708109475388, 105.74503347191511, 103.05849772978432, 98.58093801566118, 85.14825911204913, 75.2976279574465, 59.17841317451083, 48.432270026780564, 45.745734118992765, 39.47715083184831, 38.58163879657937, 36.79061504742836, 31.417543478588357, 29.6265195361334, 28.731007694168227, 28.731007694168227, 25.148959981607963, 25.148959816485103, 22.46242419718767, 2354.7827391207634, 356.7340912908074, 351.66804502715, 326.3378136610481, 201.71307552861714, 169.29037935479596, 165.2375423626562, 150.0394035670796, 148.0129850223812, 125.72238150966835, 122.68275250421569, 113.56387049221009, 103.43177779974633, 100.3921501971714, 93.29968542292133, 64.9298261425178, 42.63922274969187, 41.62601349622723, 39.59959486161852, 35.54675797543964, 34.533548721975016, 31.493920961581104, 30.480711708116456, 28.454293201187163, 28.454293201187163, 28.454293201187163, 27.44108394772245, 25.414665440793076, 24.401456187328336, 24.40145605714455, 3306.888224870264, 244.46956872275032, 226.2167423338803, 206.94986988859438, 177.54253845946923, 158.27566616977776, 107.5733705228587, 104.53123282788056, 81.20817683712026, 76.13794727391154, 75.12390116614252, 59.91321267164327, 58.899166683039304, 53.82893713744667, 47.744661719941995, 46.730615741966524, 42.67443215673303, 42.674432085115015, 40.646340253941986, 38.61824850616575, 34.56206485559851, 33.54801881242517, 30.505881101325823, 23.407559816537784, 23.4075598165378, 22.39351390389581, 22.39351390389581, 21.37946779815956, 21.379467528488007, 20.36542207861183, 1627.011919752842, 1017.5535187297018, 526.7145380959494, 388.6660747157582, 235.2788930653333, 227.09824362805037, 220.9627564064503, 189.2627388507596, 135.06593447085743, 109.5014045033182, 93.14010513729701, 88.0271991044545, 82.91429309025798, 52.23685679776995, 46.10136942964164, 46.101369244185484, 43.03362591002343, 42.011044700273786, 32.80781381252685, 28.717488973528067, 26.672324030518226, 25.649745344278855, 25.649745344278855, 25.649745158366812, 25.64974506346789, 23.60458279384958, 21.5594205052797, 21.55941949390583, 20.536839295529866, 20.536839295529866, 1688.0711626942118, 592.0866163343011, 336.42674127614765, 245.26932677661154, 238.98260856157063, 189.736649014953, 142.58626219566716, 108.00931189298568, 105.91373922227379, 104.86595269987625, 94.38808906756904, 73.43236155875675, 70.28900253406697, 66.09785699531312, 64.00228429497163, 62.95449785716909, 61.90671154860647, 58.763352031536016, 53.52442050620405, 51.42884781678071, 47.23770232405034, 44.09434320450255, 44.09434305491701, 43.04655683131988, 43.04655683131988, 43.04655683131988, 40.95098397129307, 39.9031977117721, 35.71205221904156, 35.71205199151393, 1498.8973614924475, 1006.703677177534, 270.0008722423261, 158.8603629527119, 120.75504548416535, 114.40415916025202, 112.28719715216789, 109.11175386409461, 106.99479194466946, 96.40998132195702, 95.35150045538036, 79.47428486567695, 76.2988417411779, 65.71403132618055, 63.597069243181096, 63.597069243181096, 62.53858808692275, 60.42162605026278, 59.36314507718224, 58.30466403568246, 50.895296584826035, 49.836815703684664, 49.836815703684664, 47.719853620685136, 47.71985351496409, 46.6613725791854, 43.48592945468611, 38.19352424718731, 38.19352424718731, 37.13504308793217, 1260.1320580516715, 973.275606981163, 544.0533616730396, 247.63502889678847, 244.44773498796727, 156.26593705683874, 154.14107445587828, 148.82891795310965, 128.64272324391607, 128.64272323899607, 128.64272313469263, 120.14327264344176, 119.08084157287274, 119.0808415728711, 73.39629562672921, 58.52225745687064, 48.960375537077816, 47.89794420484382, 44.71065032186379, 42.58578795265946, 42.58578795265946, 36.21120006641591, 33.02390625013242, 29.836612349289947, 29.836612349289947, 29.836612349289947, 28.7741810490091, 27.71174974872824, 24.524455847885616, 24.524455847885616, 1145.809488728853, 731.7463672570493, 626.6046845631749, 499.78430437197966, 403.314100604487, 290.584873711245, 172.43597273355132, 161.596624002249, 126.91070803810769, 120.40709882329948, 72.7139644055682, 71.63002953243804, 69.46215971352058, 62.958550482616495, 60.79068080113524, 60.79068072932386, 53.20313668922327, 42.363787957920245, 41.27985279371264, 38.02804846539898, 38.02804846539897, 32.60837409974722, 30.440504353486478, 30.44050413255546, 27.188699640550386, 26.104764702801262, 23.936895114703972, 22.85296024157349, 20.68509049531246, 19.601155622181892, 724.9893181593252, 353.2466490095196, 343.4064019141906, 324.81926844200876, 188.1491695311602, 188.14916950767307, 166.2819537209328, 154.2549850134281, 145.508098624742, 143.32137703476278, 122.54752196590492, 117.08071809932304, 106.1471101396301, 102.86702780863523, 100.68030618498169, 94.12014147590436, 94.12014140014706, 86.46661562423135, 78.81309036170293, 77.71972960203404, 74.43964713038127, 72.25292554521768, 63.506039311346385, 59.13259614498086, 59.13259614498086, 58.039235300576614, 55.85251369567067, 54.75915289862732, 53.665792128137596, 52.57243139543261, 597.5581382166313, 445.64138146115005, 408.22904584679753, 378.7526602575028, 319.79988898895687, 247.2426320583058, 227.9696106629899, 217.76624634833502, 200.7606393132092, 193.95839639960698, 176.95278928670388, 171.2842536462082, 132.73821092544563, 125.93596810600376, 112.33148242911012, 94.19216819325204, 89.65733953209232, 86.25621816744113, 85.12251107532269, 74.91914675782024, 72.65173247369279, 49.97758974334658, 47.710175375952105, 43.17534690489948, 43.1753450510784, 40.907932522682046, 38.640518345934595, 36.373104066452164, 32.97198255302671, 30.704568367745853], \"Total\": [5889.0, 3307.0, 3045.0, 2355.0, 1688.0, 1627.0, 1499.0, 1373.0, 1261.0, 1146.0, 1007.0, 1018.0, 974.0, 925.0, 732.0, 725.0, 759.0, 627.0, 598.0, 593.0, 544.0, 560.0, 527.0, 500.0, 446.0, 409.0, 452.0, 404.0, 426.0, 379.0, 5889.167584571002, 183.17749338077004, 153.76938407261164, 140.69911330694885, 131.71330217006826, 113.74167978445693, 110.47411209054303, 95.77005744694478, 87.60113821680801, 81.88289474041355, 67.99573206989271, 54.10856930163337, 40.22140666355538, 38.5876228478805, 36.13694699662804, 35.32005504280276, 33.686271194208715, 31.235595421317683, 24.700460598159783, 19.799108481159823, 18.982216556862856, 16.531540783972027, 15.714648859675124, 14.897756935378213, 14.897756935378213, 14.89775695502544, 14.080865011081327, 14.080865563064897, 13.263973194653126, 12.447081186472552, 3045.1752869001825, 452.4569429452054, 426.78646429904165, 346.2342726829158, 242.66716912878553, 216.11150155986743, 204.60404561381245, 201.06328997452948, 145.29638803541351, 144.41119911527355, 101.9221310020901, 95.72580857703777, 82.44797476803781, 69.17014099908418, 68.28495207118974, 61.203440756024875, 58.547873961479624, 56.77749614487416, 55.007118296293555, 49.695984792598864, 48.810795851768866, 42.61447341831766, 39.95890666112396, 39.95890666112396, 34.647773146736704, 28.45145074309295, 26.681072875155888, 20.484750441704204, 19.59956158035297, 18.714372603575185, 1373.8303800693234, 925.1789040637889, 759.509197357513, 560.7055493256149, 361.90190126690715, 330.55898377776293, 276.8282680985483, 157.72518165211463, 129.96431187442573, 119.21816874372963, 112.05407332179105, 110.26304946739522, 106.68100175048397, 103.99446595836807, 99.51690632330838, 86.08422740712895, 76.23359618603072, 60.11438149375622, 49.36823835410267, 46.6817026049681, 40.413119060434184, 39.51760714647429, 37.72658327601449, 32.35351170717512, 30.562487843328274, 29.66697592275541, 29.66697592275541, 26.084928210195827, 26.08492823189787, 23.398392425776198, 2355.7088992747535, 357.66025144168407, 352.59420517307643, 327.2639738379769, 202.6392356597771, 170.21653954425085, 166.1637025411399, 150.9655637338723, 148.93914522094875, 126.64854164878685, 123.60891390417257, 114.49003061025942, 104.35793808065968, 101.31831031522087, 94.22584554096909, 65.85598644413615, 43.5653828677429, 42.55217361427833, 40.52575512253384, 36.472918093491224, 35.4597088400267, 32.42008107963311, 31.406871826168587, 29.38045331923957, 29.38045331923957, 29.38045331923957, 28.367244065775004, 26.340825558845967, 25.327616305381426, 25.327616290258845, 3307.814315346443, 245.39565916444738, 227.14283273919966, 207.87596039478822, 178.46862893064554, 159.20175659568443, 108.4994609652162, 105.45732322433139, 82.1342672335714, 77.06403767036278, 76.04999175691262, 60.83930306809493, 59.825257159077765, 54.75502758542433, 48.67075211639415, 47.65670619545026, 43.60052255318547, 43.60052254408478, 41.57243071884189, 39.54433890261848, 35.48815525205159, 34.474109343752986, 31.431971589362245, 24.333650212992495, 24.33365021299251, 23.31960430035075, 23.31960430035075, 22.305558387549624, 22.30555843341953, 21.2915124750673, 1627.937298933932, 1018.4788979218787, 527.6399172444477, 389.5914539265128, 236.2042724677174, 228.02362278695514, 221.88813552813684, 190.18811802141732, 135.99131391703062, 110.42678366685325, 94.06548431293338, 88.95257825605077, 83.83967221194534, 53.16223591945814, 47.02674867287451, 47.02674864199014, 43.95900503171209, 42.9364238219625, 33.733192934216355, 29.642868095218063, 27.597705723894926, 26.57512446596934, 26.57512446596934, 26.575124478837445, 26.57512444833742, 24.529962028878636, 22.484799626971053, 22.48479956517097, 21.46221841722149, 21.46221841722149, 1688.9944414177737, 593.0098950682006, 337.3500200118775, 246.1926055448956, 239.90588730140524, 190.65992776617406, 143.50954097365602, 108.93259065789901, 106.83701791365976, 105.78923153874321, 95.3113678108135, 74.35564033834508, 71.21228122545347, 67.02113572558129, 64.92556298635829, 63.877776611094816, 62.82999023999317, 59.68663108602159, 54.447699245696406, 52.352126508167785, 48.1609810154376, 45.01762189588998, 45.01762188034876, 43.96983552270738, 43.96983552270738, 43.96983552270738, 41.874262780263614, 40.8264764031598, 36.63533091042959, 36.63533090874533, 1499.8197489853633, 1007.6260646866352, 270.9232597979551, 159.78275044608677, 121.67743295318562, 115.32654670311258, 113.20958462118823, 110.03414149811911, 107.91717941368984, 97.33236899280814, 96.27388795214418, 80.3966723346977, 77.22122921019867, 66.63641879520156, 64.51945671220219, 64.51945671220219, 63.46097566049219, 61.344013585382655, 60.28553254620344, 59.227051504703695, 51.81768418219089, 50.75920317270623, 50.75920317270623, 48.64224108970679, 48.64224109722037, 47.583760048207104, 44.40831692370799, 39.115911716209546, 39.115911716209546, 38.05743067352003, 1261.054116353155, 974.1976652791902, 544.9754199645909, 248.55708718529928, 245.36979328671188, 157.18799536228386, 155.06313276172455, 149.75097626048117, 129.56478155475025, 129.5647815572436, 129.564781537069, 121.06533114465334, 120.00289985365774, 120.0028998536574, 74.31835393371333, 59.444315737657895, 49.88243401431745, 48.82000272352976, 45.63270880808507, 43.50784623344742, 43.50784623344742, 37.13325841765645, 33.945964530921124, 30.758670630079013, 30.758670630079013, 30.758670630079013, 29.696239329798303, 28.633808029517596, 25.446514128675492, 25.446514128675492, 1146.7297551138524, 732.6666335846918, 627.5249508885487, 500.7045707316061, 404.23436701847976, 291.5051402089444, 173.35623904992318, 162.51689031862088, 127.83097437405752, 121.3273651396716, 73.63423072194091, 72.55029584881076, 70.38242610588644, 63.87881685954194, 61.710947117508226, 61.71094711511323, 54.12340300559651, 43.28405427429399, 42.20011938808772, 38.94831478177303, 38.948314781773014, 33.52864041612174, 31.360770669861235, 31.360770641535055, 28.108966027424277, 27.02503116702012, 24.857161431079696, 23.773226557949435, 21.605356811688903, 20.521421938558635, 725.9087990419196, 354.16612990335705, 344.3258827777006, 325.73874932011336, 189.06865037434, 189.06865037353728, 167.20143454409546, 155.17446583659083, 146.42757949977965, 144.24085791913294, 123.46700287085511, 118.00019892248598, 107.06659100619483, 103.7865086317983, 101.59978704564887, 95.03962229906753, 95.03962228971444, 87.38609671664106, 79.73257120871676, 78.63921042519743, 75.35912803898836, 73.17240645503553, 64.42552013451008, 60.05207696814468, 60.05207696814468, 58.95871616649795, 56.771994588545475, 55.67863379844517, 54.58527299953213, 53.49191221859665, 598.4742568617127, 446.5575001346093, 409.14516452556865, 379.6687788945967, 320.7160076278563, 248.1587506857715, 228.88572930893312, 218.68236504513317, 201.67675795308364, 194.8745151044624, 177.86890800823184, 172.2003723186571, 133.6543295666058, 126.85208673346987, 113.24760105657634, 95.10828682071843, 90.57345824116084, 87.17233683750368, 86.0386297027892, 75.83526544114892, 73.56785116280616, 50.89370837081392, 48.626294082714494, 44.09146553236714, 44.09146534093523, 41.82405124281468, 39.55663697340253, 37.28922269392027, 33.888101254046965, 31.62068699521448], \"Category\": [\"Default\", \"Default\", \"Default\", \"Default\", \"Default\", \"Default\", \"Default\", \"Default\", \"Default\", \"Default\", \"Default\", \"Default\", \"Default\", \"Default\", \"Default\", \"Default\", \"Default\", \"Default\", \"Default\", \"Default\", \"Default\", \"Default\", \"Default\", \"Default\", \"Default\", \"Default\", \"Default\", \"Default\", \"Default\", \"Default\", \"Topic1\", \"Topic1\", \"Topic1\", \"Topic1\", \"Topic1\", \"Topic1\", \"Topic1\", \"Topic1\", \"Topic1\", \"Topic1\", \"Topic1\", \"Topic1\", \"Topic1\", \"Topic1\", \"Topic1\", \"Topic1\", \"Topic1\", \"Topic1\", \"Topic1\", \"Topic1\", \"Topic1\", \"Topic1\", \"Topic1\", \"Topic1\", \"Topic1\", \"Topic1\", \"Topic1\", \"Topic1\", \"Topic1\", \"Topic1\", \"Topic2\", \"Topic2\", \"Topic2\", \"Topic2\", \"Topic2\", \"Topic2\", \"Topic2\", \"Topic2\", \"Topic2\", \"Topic2\", \"Topic2\", \"Topic2\", \"Topic2\", \"Topic2\", \"Topic2\", \"Topic2\", \"Topic2\", \"Topic2\", \"Topic2\", \"Topic2\", \"Topic2\", \"Topic2\", \"Topic2\", \"Topic2\", \"Topic2\", \"Topic2\", \"Topic2\", \"Topic2\", \"Topic2\", \"Topic2\", \"Topic3\", \"Topic3\", \"Topic3\", \"Topic3\", \"Topic3\", \"Topic3\", \"Topic3\", \"Topic3\", \"Topic3\", \"Topic3\", \"Topic3\", \"Topic3\", \"Topic3\", \"Topic3\", \"Topic3\", \"Topic3\", \"Topic3\", \"Topic3\", \"Topic3\", \"Topic3\", \"Topic3\", \"Topic3\", \"Topic3\", \"Topic3\", \"Topic3\", \"Topic3\", \"Topic3\", \"Topic3\", \"Topic3\", \"Topic3\", \"Topic4\", \"Topic4\", \"Topic4\", \"Topic4\", \"Topic4\", \"Topic4\", \"Topic4\", \"Topic4\", \"Topic4\", \"Topic4\", \"Topic4\", \"Topic4\", \"Topic4\", \"Topic4\", \"Topic4\", \"Topic4\", \"Topic4\", \"Topic4\", \"Topic4\", \"Topic4\", \"Topic4\", \"Topic4\", \"Topic4\", \"Topic4\", \"Topic4\", \"Topic4\", \"Topic4\", \"Topic4\", \"Topic4\", \"Topic4\", \"Topic5\", \"Topic5\", \"Topic5\", \"Topic5\", \"Topic5\", \"Topic5\", \"Topic5\", \"Topic5\", \"Topic5\", \"Topic5\", \"Topic5\", \"Topic5\", \"Topic5\", \"Topic5\", \"Topic5\", \"Topic5\", \"Topic5\", \"Topic5\", \"Topic5\", \"Topic5\", \"Topic5\", \"Topic5\", \"Topic5\", \"Topic5\", \"Topic5\", \"Topic5\", \"Topic5\", \"Topic5\", \"Topic5\", \"Topic5\", \"Topic6\", \"Topic6\", \"Topic6\", \"Topic6\", \"Topic6\", \"Topic6\", \"Topic6\", \"Topic6\", \"Topic6\", \"Topic6\", \"Topic6\", \"Topic6\", \"Topic6\", \"Topic6\", \"Topic6\", \"Topic6\", \"Topic6\", \"Topic6\", \"Topic6\", \"Topic6\", \"Topic6\", \"Topic6\", \"Topic6\", \"Topic6\", \"Topic6\", \"Topic6\", \"Topic6\", \"Topic6\", \"Topic6\", \"Topic6\", \"Topic7\", \"Topic7\", \"Topic7\", \"Topic7\", \"Topic7\", \"Topic7\", \"Topic7\", \"Topic7\", \"Topic7\", \"Topic7\", \"Topic7\", \"Topic7\", \"Topic7\", \"Topic7\", \"Topic7\", \"Topic7\", \"Topic7\", \"Topic7\", \"Topic7\", \"Topic7\", \"Topic7\", \"Topic7\", \"Topic7\", \"Topic7\", \"Topic7\", \"Topic7\", \"Topic7\", \"Topic7\", \"Topic7\", \"Topic7\", \"Topic8\", \"Topic8\", \"Topic8\", \"Topic8\", \"Topic8\", \"Topic8\", \"Topic8\", \"Topic8\", \"Topic8\", \"Topic8\", \"Topic8\", \"Topic8\", \"Topic8\", \"Topic8\", \"Topic8\", \"Topic8\", \"Topic8\", \"Topic8\", \"Topic8\", \"Topic8\", \"Topic8\", \"Topic8\", \"Topic8\", \"Topic8\", \"Topic8\", \"Topic8\", \"Topic8\", \"Topic8\", \"Topic8\", \"Topic8\", \"Topic9\", \"Topic9\", \"Topic9\", \"Topic9\", \"Topic9\", \"Topic9\", \"Topic9\", \"Topic9\", \"Topic9\", \"Topic9\", \"Topic9\", \"Topic9\", \"Topic9\", \"Topic9\", \"Topic9\", \"Topic9\", \"Topic9\", \"Topic9\", \"Topic9\", \"Topic9\", \"Topic9\", \"Topic9\", \"Topic9\", \"Topic9\", \"Topic9\", \"Topic9\", \"Topic9\", \"Topic9\", \"Topic9\", \"Topic9\", \"Topic10\", \"Topic10\", \"Topic10\", \"Topic10\", \"Topic10\", \"Topic10\", \"Topic10\", \"Topic10\", \"Topic10\", \"Topic10\", \"Topic10\", \"Topic10\", \"Topic10\", \"Topic10\", \"Topic10\", \"Topic10\", \"Topic10\", \"Topic10\", \"Topic10\", \"Topic10\", \"Topic10\", \"Topic10\", \"Topic10\", \"Topic10\", \"Topic10\", \"Topic10\", \"Topic10\", \"Topic10\", \"Topic10\", \"Topic10\", \"Topic11\", \"Topic11\", \"Topic11\", \"Topic11\", \"Topic11\", \"Topic11\", \"Topic11\", \"Topic11\", \"Topic11\", \"Topic11\", \"Topic11\", \"Topic11\", \"Topic11\", \"Topic11\", \"Topic11\", \"Topic11\", \"Topic11\", \"Topic11\", \"Topic11\", \"Topic11\", \"Topic11\", \"Topic11\", \"Topic11\", \"Topic11\", \"Topic11\", \"Topic11\", \"Topic11\", \"Topic11\", \"Topic11\", \"Topic11\", \"Topic12\", \"Topic12\", \"Topic12\", \"Topic12\", \"Topic12\", \"Topic12\", \"Topic12\", \"Topic12\", \"Topic12\", \"Topic12\", \"Topic12\", \"Topic12\", \"Topic12\", \"Topic12\", \"Topic12\", \"Topic12\", \"Topic12\", \"Topic12\", \"Topic12\", \"Topic12\", \"Topic12\", \"Topic12\", \"Topic12\", \"Topic12\", \"Topic12\", \"Topic12\", \"Topic12\", \"Topic12\", \"Topic12\", \"Topic12\"], \"logprob\": [30.0, 29.0, 28.0, 27.0, 26.0, 25.0, 24.0, 23.0, 22.0, 21.0, 20.0, 19.0, 18.0, 17.0, 16.0, 15.0, 14.0, 13.0, 12.0, 11.0, 10.0, 9.0, 8.0, 7.0, 6.0, 5.0, 4.0, 3.0, 2.0, 1.0, -0.2539, -3.7293, -3.9053, -3.9947, -4.0612, -4.209, -4.2384, -4.3826, -4.4727, -4.5409, -4.7292, -4.9612, -5.264, -5.3064, -5.3738, -5.3972, -5.4459, -5.5237, -5.7667, -5.9978, -6.0421, -6.1881, -6.2419, -6.2988, -6.2988, -6.2988, -6.3591, -6.3591, -6.4233, -6.4919, -0.799, -2.7073, -2.7659, -2.9756, -3.3321, -3.4485, -3.5035, -3.521, -3.8477, -3.8538, -4.205, -4.2683, -4.4192, -4.597, -4.6101, -4.7212, -4.7662, -4.7975, -4.8297, -4.9331, -4.9514, -5.09, -5.1558, -5.1558, -5.3021, -5.5052, -5.5718, -5.8471, -5.8934, -5.942, -1.5771, -1.9728, -2.1704, -2.4743, -2.913, -3.0039, -3.1818, -3.7469, -3.9418, -4.0287, -4.0912, -4.1075, -4.1408, -4.1665, -4.2109, -4.3574, -4.4804, -4.7213, -4.9217, -4.9787, -5.1261, -5.149, -5.1966, -5.3545, -5.4132, -5.4438, -5.4438, -5.577, -5.577, -5.69, -0.9022, -2.7894, -2.8037, -2.8785, -3.3595, -3.5348, -3.559, -3.6555, -3.6691, -3.8323, -3.8568, -3.934, -4.0275, -4.0573, -4.1306, -4.4931, -4.9136, -4.9377, -4.9876, -5.0955, -5.1245, -5.2166, -5.2493, -5.3181, -5.3181, -5.3181, -5.3543, -5.4311, -5.4717, -5.4717, -0.5619, -3.1666, -3.2441, -3.3332, -3.4864, -3.6013, -3.9875, -4.0162, -4.2686, -4.3331, -4.3465, -4.5727, -4.5898, -4.6798, -4.7998, -4.8212, -4.912, -4.912, -4.9607, -5.0119, -5.1229, -5.1527, -5.2477, -5.5126, -5.5126, -5.5569, -5.5569, -5.6032, -5.6032, -5.6518, -1.264, -1.7334, -2.3919, -2.6958, -3.1977, -3.2331, -3.2605, -3.4154, -3.7528, -3.9626, -4.1244, -4.1809, -4.2407, -4.7027, -4.8277, -4.8277, -4.8965, -4.9206, -5.1679, -5.301, -5.3749, -5.414, -5.414, -5.414, -5.414, -5.4971, -5.5877, -5.5877, -5.6363, -5.6363, -1.2009, -2.2486, -2.8139, -3.1299, -3.1559, -3.3866, -3.6723, -3.95, -3.9696, -3.9796, -4.0848, -4.3359, -4.3796, -4.4411, -4.4733, -4.4898, -4.5066, -4.5587, -4.6521, -4.692, -4.7771, -4.8459, -4.8459, -4.87, -4.87, -4.87, -4.9199, -4.9458, -5.0568, -5.0568, -1.3097, -1.7078, -3.0238, -3.5542, -3.8285, -3.8825, -3.9012, -3.9298, -3.9494, -4.0536, -4.0646, -4.2468, -4.2876, -4.4369, -4.4696, -4.4696, -4.4864, -4.5209, -4.5385, -4.5565, -4.6924, -4.7135, -4.7135, -4.7569, -4.7569, -4.7793, -4.8498, -4.9795, -4.9795, -5.0077, -1.4791, -1.7374, -2.319, -3.1061, -3.1191, -3.5665, -3.5802, -3.6153, -3.7611, -3.7611, -3.7611, -3.8294, -3.8383, -3.8383, -4.3222, -4.5487, -4.7271, -4.749, -4.8179, -4.8666, -4.8666, -5.0287, -5.1209, -5.2224, -5.2224, -5.2224, -5.2586, -5.2962, -5.4184, -5.4184, -1.5583, -2.0067, -2.1618, -2.388, -2.6024, -2.9303, -3.4521, -3.517, -3.7587, -3.8113, -4.3156, -4.3306, -4.3614, -4.4597, -4.4947, -4.4947, -4.628, -4.8559, -4.8818, -4.9638, -4.9638, -5.1176, -5.1864, -5.1864, -5.2993, -5.34, -5.4267, -5.4731, -5.5727, -5.6266, -2.0096, -2.7286, -2.7568, -2.8125, -3.3585, -3.3585, -3.4821, -3.5572, -3.6155, -3.6307, -3.7873, -3.8329, -3.9309, -3.9623, -3.9838, -4.0512, -4.0512, -4.136, -4.2287, -4.2427, -4.2858, -4.3156, -4.4446, -4.516, -4.516, -4.5346, -4.573, -4.5928, -4.613, -4.6336, -2.1721, -2.4654, -2.5531, -2.628, -2.7972, -3.0545, -3.1357, -3.1815, -3.2628, -3.2973, -3.389, -3.4216, -3.6765, -3.7291, -3.8435, -4.0196, -4.0689, -4.1076, -4.1208, -4.2485, -4.2792, -4.6533, -4.6998, -4.7996, -4.7996, -4.8536, -4.9106, -4.9711, -5.0692, -5.1405], \"loglift\": [30.0, 29.0, 28.0, 27.0, 26.0, 25.0, 24.0, 23.0, 22.0, 21.0, 20.0, 19.0, 18.0, 17.0, 16.0, 15.0, 14.0, 13.0, 12.0, 11.0, 10.0, 9.0, 8.0, 7.0, 6.0, 5.0, 4.0, 3.0, 2.0, 1.0, 2.2379, 2.2329, 2.2319, 2.2313, 2.2308, 2.2297, 2.2295, 2.2281, 2.2272, 2.2265, 2.2241, 2.2205, 2.2143, 2.2133, 2.2116, 2.211, 2.2097, 2.2074, 2.1991, 2.1893, 2.1871, 2.1793, 2.1762, 2.1727, 2.1727, 2.1727, 2.1687, 2.1687, 2.1643, 2.1593, 2.3524, 2.3506, 2.3505, 2.35, 2.3488, 2.3484, 2.3481, 2.348, 2.3462, 2.3462, 2.3435, 2.3429, 2.3413, 2.3391, 2.3389, 2.3373, 2.3366, 2.3361, 2.3355, 2.3337, 2.3333, 2.3305, 2.329, 2.329, 2.3253, 2.3192, 2.317, 2.3059, 2.3037, 2.3014, 2.3702, 2.3698, 2.3696, 2.3692, 2.3683, 2.368, 2.3675, 2.3649, 2.3636, 2.363, 2.3625, 2.3623, 2.362, 2.3618, 2.3614, 2.3599, 2.3585, 2.3552, 2.3517, 2.3506, 2.3474, 2.3469, 2.3457, 2.3415, 2.3397, 2.3388, 2.3388, 2.3343, 2.3343, 2.33, 2.5059, 2.5037, 2.5037, 2.5034, 2.5017, 2.5008, 2.5007, 2.5001, 2.5, 2.4989, 2.4988, 2.4982, 2.4974, 2.4971, 2.4964, 2.4921, 2.4848, 2.4843, 2.4832, 2.4806, 2.4798, 2.4773, 2.4763, 2.4743, 2.4743, 2.4743, 2.4731, 2.4705, 2.469, 2.469, 2.5067, 2.5032, 2.5029, 2.5026, 2.5018, 2.5012, 2.4985, 2.4982, 2.4957, 2.4949, 2.4948, 2.4917, 2.4914, 2.49, 2.4878, 2.4874, 2.4856, 2.4856, 2.4845, 2.4833, 2.4806, 2.4798, 2.4771, 2.4682, 2.4682, 2.4665, 2.4665, 2.4646, 2.4646, 2.4626, 2.5136, 2.5132, 2.5124, 2.5118, 2.5102, 2.5101, 2.51, 2.5093, 2.5073, 2.5057, 2.5043, 2.5037, 2.5031, 2.4966, 2.4943, 2.4943, 2.4929, 2.4924, 2.4863, 2.4824, 2.48, 2.4787, 2.4787, 2.4787, 2.4787, 2.4757, 2.4721, 2.4721, 2.4701, 2.4701, 2.5399, 2.5389, 2.5377, 2.5367, 2.5366, 2.5356, 2.534, 2.5319, 2.5317, 2.5317, 2.5307, 2.5279, 2.5274, 2.5266, 2.5261, 2.5259, 2.5256, 2.5248, 2.5233, 2.5226, 2.5211, 2.5197, 2.5197, 2.5192, 2.5192, 2.5192, 2.5181, 2.5175, 2.5149, 2.5149, 2.5498, 2.5495, 2.547, 2.5447, 2.5428, 2.5424, 2.5423, 2.542, 2.5419, 2.5409, 2.5408, 2.5389, 2.5384, 2.5365, 2.5361, 2.5361, 2.5358, 2.5353, 2.535, 2.5348, 2.5325, 2.5321, 2.5321, 2.5313, 2.5313, 2.5309, 2.5295, 2.5266, 2.5266, 2.5259, 2.5538, 2.5536, 2.5529, 2.5509, 2.5508, 2.5487, 2.5486, 2.5484, 2.5474, 2.5474, 2.5474, 2.5469, 2.5469, 2.5469, 2.5421, 2.5389, 2.5359, 2.5355, 2.5342, 2.5332, 2.5332, 2.5294, 2.527, 2.5241, 2.5241, 2.5241, 2.523, 2.5218, 2.5177, 2.5177, 2.5697, 2.5693, 2.5691, 2.5687, 2.5682, 2.5674, 2.5652, 2.5648, 2.5633, 2.5629, 2.5579, 2.5578, 2.5574, 2.556, 2.5555, 2.5555, 2.5534, 2.549, 2.5485, 2.5466, 2.5466, 2.5427, 2.5407, 2.5407, 2.5372, 2.5359, 2.5328, 2.531, 2.527, 2.5246, 2.5756, 2.5743, 2.5742, 2.5741, 2.572, 2.572, 2.5714, 2.571, 2.5706, 2.5705, 2.5694, 2.5691, 2.5683, 2.568, 2.5678, 2.5672, 2.5672, 2.5663, 2.5653, 2.5652, 2.5646, 2.5643, 2.5625, 2.5615, 2.5615, 2.5612, 2.5606, 2.5603, 2.5599, 2.5596, 2.6062, 2.6057, 2.6055, 2.6054, 2.6049, 2.6041, 2.6038, 2.6036, 2.6032, 2.6031, 2.6026, 2.6024, 2.6009, 2.6005, 2.5996, 2.5981, 2.5976, 2.5972, 2.5971, 2.5956, 2.5952, 2.5896, 2.5887, 2.5868, 2.5868, 2.5856, 2.5843, 2.5829, 2.5804, 2.5784]}, \"token.table\": {\"Topic\": [6, 3, 5, 6, 3, 5, 11, 1, 1, 8, 12, 11, 4, 10, 9, 9, 5, 10, 4, 3, 3, 10, 11, 12, 3, 7, 12, 5, 10, 1, 4, 9, 11, 5, 6, 8, 2, 1, 8, 4, 9, 10, 4, 1, 10, 11, 12, 11, 2, 10, 12, 10, 6, 1, 3, 2, 6, 1, 7, 11, 3, 11, 7, 12, 4, 1, 12, 8, 3, 8, 1, 11, 12, 3, 7, 2, 9, 8, 3, 12, 7, 1, 3, 1, 10, 10, 3, 10, 3, 12, 4, 2, 2, 1, 4, 12, 11, 9, 12, 1, 12, 8, 5, 5, 4, 4, 3, 11, 4, 5, 12, 4, 2, 5, 3, 6, 2, 9, 5, 10, 9, 2, 5, 4, 8, 10, 9, 8, 10, 2, 6, 8, 6, 11, 8, 5, 8, 9, 8, 11, 10, 10, 9, 6, 12, 2, 1, 2, 6, 2, 5, 2, 7, 3, 7, 7, 4, 6, 6, 2, 3, 5, 3, 10, 5, 7, 4, 9, 5, 4, 12, 7, 1, 1, 9, 6, 1, 6, 10, 7, 5, 9, 2, 2, 12, 1, 7, 1, 9, 2, 6, 12, 11, 11, 9, 10, 11, 5, 9, 4, 7, 7, 12, 5, 9, 10, 9, 5, 7, 3, 7, 3, 11, 8, 1, 12, 8, 5, 8, 11, 4, 5, 6, 5, 8, 8, 3, 1, 6, 5, 5, 1, 9, 1, 9, 8, 8, 12, 2, 6, 2, 8, 7, 8, 7, 7, 2, 3, 4, 4, 6, 6, 2, 8, 7, 2, 2, 7, 10, 7, 8, 11, 11, 6, 11, 8, 3, 10, 9, 2, 11, 12, 2, 1, 12, 10, 6, 8, 7, 9, 11, 7, 7, 12, 6, 6, 11, 4, 2, 7, 2, 9, 4, 9, 11, 1, 3, 11, 12, 6, 4, 3, 7, 8, 7, 1, 4, 10, 9, 4, 11, 10, 5, 9, 3, 5, 1, 10, 6, 9, 10, 10, 7, 6, 12, 4, 3, 10, 6, 1, 6, 11, 12, 2, 4, 9, 8, 11, 4, 5, 1, 8, 5, 9, 3, 11, 4, 12, 12, 7, 3, 8, 5, 3, 4, 10, 1, 12, 2, 6], \"Freq\": [0.9784387837555143, 0.9987416758645183, 0.9973741663537536, 0.9955108914837674, 0.9904373184745602, 0.995786139036353, 0.9962175896393664, 0.9696329202563148, 0.9545233962237004, 0.9904493847852551, 0.9936685840168105, 0.984138246600765, 0.9561974852516569, 0.9990901270043783, 0.9694813095874829, 0.9883274793534367, 0.999753820720025, 0.9566091444567406, 0.9870221990368062, 0.9925801794314314, 0.9853967921706533, 0.9620710458875987, 0.9824805898270135, 0.995114896594566, 0.9874050399267548, 0.9741724625463527, 0.9968796521612873, 0.9861928118156209, 0.9756519688441868, 0.9919593089168671, 0.994879201605137, 0.9753347392934106, 0.9878115939248473, 0.9862055392944927, 0.9783585410218563, 0.9826277345300656, 0.9996140495080075, 0.9626259064091762, 0.9951011580167355, 0.9957198840139404, 0.9861347523605049, 0.9756519688441871, 0.9929966501507644, 0.9795121305933345, 0.9968194670867286, 0.9900380595275223, 0.9871202588120502, 0.9961493374619281, 0.9981572417008742, 0.9982671310407003, 0.9737931243952209, 0.971981170365981, 0.9781904560602109, 0.9397387848873894, 0.989782021007652, 0.9803370408402013, 0.9781841051447762, 0.9596391685049744, 0.9964494278903062, 0.9890611697109224, 0.9650331601893685, 0.9890611698082584, 0.9779431623707912, 0.9889857912899755, 0.9869884297209522, 0.9716418001447322, 0.9932828323489845, 0.9722148696113692, 0.9936164664812881, 0.9915010805631426, 0.9397387848873894, 0.9819646527984613, 0.9953306071916893, 0.9775178998866608, 0.9965387180520523, 0.9906422910959998, 0.9987706136835721, 0.9867966385734086, 0.981462314573228, 0.9654263993512938, 0.9779431623707912, 0.9935718446680434, 0.9954022455734803, 0.9853559622114341, 0.998592841422285, 0.9842331687309471, 0.9581649213406732, 0.9969464075318877, 0.9584078514054809, 0.9955124193433215, 0.9869876877060362, 0.9948568144136487, 0.9813040467566755, 0.9685378237200245, 0.9936040795662882, 0.9859281016791996, 0.9913973201696525, 0.9912003615355378, 0.9752454240477467, 0.9934792612007979, 0.9982385201739689, 0.9850430439161334, 0.9393414405585474, 0.9861934007794658, 0.953014567057902, 0.9870357412662175, 0.9993295705183234, 0.9908121461830309, 0.9552049680733767, 0.9862267122262677, 0.9922812593567603, 0.9870021468000899, 0.9909525929940457, 0.9862569362493175, 0.9584078506081083, 0.9784636234597911, 0.9855806403546095, 0.9956409330685932, 0.9862445582593823, 0.9934994286155878, 0.9977587153454048, 0.9863062622048303, 0.9949686603560508, 0.9950738673697543, 0.9919488362321572, 0.9890596392813481, 0.9753347392934106, 0.9786759361341264, 0.9924149744343216, 0.9947116652937282, 0.9783128915477052, 0.9893155281398158, 0.9959973726129029, 0.9924313202545345, 0.9927360766881627, 0.986204591016509, 0.9850430439161334, 0.9924422004393797, 0.9792822456372619, 0.9967073929297664, 0.9991634581416956, 0.9703342421170426, 0.982260722097139, 0.9781667099759188, 0.9824397081795982, 0.9989900852394241, 0.9232386987700469, 0.9618275953617215, 0.9961351435523033, 0.9760026802220572, 0.9862185791830365, 0.9924178381167326, 0.9773950321444481, 0.9993955730770188, 0.986241223466476, 0.9829765146602246, 0.9936944366133192, 0.9783585410218563, 0.9783585416709724, 0.9945665764465633, 0.9905931726483158, 0.9862347198682734, 0.9948058441283427, 0.999363620669475, 0.9414693679462665, 0.9779431623707912, 0.9983147619434507, 0.9931438715135583, 0.9862267120204137, 0.9518020128213801, 0.9966443433544233, 0.9959981623483231, 0.9796275702272831, 0.9957083874079526, 0.9721332257311631, 0.9781379413533519, 0.9949965067672487, 0.978166709333517, 0.9605476051185119, 0.9797563621460157, 0.9862200674810179, 0.9949851661789844, 0.9694094391910285, 0.9811825002110257, 0.9889834217684393, 0.9678468697553361, 0.9921654691416396, 0.9640814436915187, 0.9778650457925742, 0.9744735574036804, 0.9994242413792314, 0.9972010801425539, 0.9970799250985345, 0.998748053415086, 0.9982101578734427, 0.9655165199189655, 0.9924218605850922, 0.9451931707195981, 0.9944174330981674, 0.953014567057902, 0.9925395852936679, 0.9826579726553332, 0.9992075567891598, 0.9451931707195975, 0.9823097242194684, 0.980358362415546, 0.9991640990347002, 0.9953966502619186, 0.9847639746100045, 0.9722850480446814, 0.9791217152920081, 0.997507884695411, 0.9864018413631492, 0.9877319478827293, 0.9604427127240093, 0.9752454282819697, 0.9842199782739053, 0.9862473794746811, 0.9714716679926672, 0.9915237522341551, 0.953014567057902, 0.9414693698823361, 0.9995297910218308, 0.9434122344721388, 0.9919488362321572, 0.9682870907688883, 0.9402355341200408, 0.9998017403046805, 0.9937529324451093, 0.9434122344721388, 0.9861900851888554, 0.9950311463198517, 0.9916427031773335, 0.984771727188352, 0.9925255134634106, 0.9906016306935354, 0.9863111418473068, 0.9802971922057346, 0.983083148564065, 0.9899847865599634, 0.9910776306765621, 0.9993786735887683, 0.9862584977489283, 0.986796638420982, 0.9994112228001538, 0.9773950324818695, 0.9763360338177556, 0.9815954824681897, 0.9961377544153313, 0.9996990717847304, 0.97843878644478, 0.9783421951855434, 0.9902279108274208, 0.9994534349971602, 0.9962239888666544, 0.9964351516291221, 0.9816911278487858, 0.9867899034072289, 0.9862424368085229, 0.9758937423831658, 0.9841853176556612, 0.9918716067755352, 0.9824805898270135, 0.988672951394278, 0.9943478182584686, 0.9780905502129891, 0.986901860111222, 0.9913867407084633, 0.9832035502297393, 0.9859951504029252, 0.994347818254247, 0.9961302554265512, 0.9833890056980195, 0.9482559608399503, 0.9865515038367159, 0.9792436738414185, 0.9783953180092687, 0.9714716679926672, 0.9982970013205522, 0.9824528370991169, 0.9837391953415241, 0.9817681573021706, 0.9826579727005095, 0.9951043144750524, 0.9987872084284495, 0.989291167555495, 0.9892778222518527, 0.9490970563602673, 0.9760026802220572, 0.991438827881843, 0.9972506823597903, 0.9753347392934106, 0.9870337193125324, 0.9956409332044649, 0.9928144483486557, 0.9397387836480579, 0.9970080075122479, 0.9933951618299447, 0.9803708567334917, 0.99848186113799, 0.987023609668366, 0.9983089741764855, 0.985744243965158, 0.994432550582767, 0.9951558027412886, 0.9232387349618997, 0.9475822645509102, 0.9921765777952035, 0.9765546296261267, 0.9928529886254996, 0.9839774785081591, 0.9566091453207846, 0.9862305208296985, 0.9824528370991169, 0.988545124831064, 0.9924513609561705, 0.9945844333236195, 0.9884794003217215, 0.9783585405481192, 0.9883274793534367, 0.9745913348441556, 0.9674749005540066, 0.9884960656427064, 0.9927104615105385, 0.9977674714986876, 0.9869903471395638, 0.9987257555715866, 0.9884794003600843, 0.9784636234597911, 0.9892175924750521, 0.9949015635698037, 0.9908039888986127, 0.9987515602482518, 0.9970477337728083, 0.9981539703139427, 0.995640933049433, 0.9965921722681041, 0.9940965718227404, 0.9870266421700432, 0.9943126167382117, 0.9047062915384473, 0.9884974731227535, 0.9956634284813151, 0.9916427031773364, 0.9838182081425043, 0.9977320803200255, 0.947582263985129, 0.9879283328154222, 0.993029211827511, 0.9917774441914221, 0.9807408142237882, 0.9867680844802134, 0.9862108080532623, 0.9775178998866608, 0.9968454497092045, 0.9715612323972124, 0.993137780752115, 0.9883471056227984, 0.9841325931964103, 0.978264941132428], \"Term\": [\"accessory\", \"amazon\", \"android\", \"app\", \"application\", \"apps\", \"atmos\", \"audio\", \"aur\", \"auto\", \"average\", \"awesome\", \"background\", \"backup\", \"bahut\", \"bar\", \"battery\", \"bekar\", \"bhi\", \"bit\", \"bluetooth\", \"blur\", \"body\", \"box\", \"brand\", \"brightness\", \"budget\", \"bug\", \"build\", \"button\", \"buy\", \"buyer\", \"buying\", \"cable\", \"caller\", \"cam\", \"camera\", \"capacity\", \"card\", \"care\", \"case\", \"cash\", \"cast\", \"cell\", \"center\", \"centre\", \"change\", \"charge\", \"charger\", \"charging\", \"check\", \"china\", \"choice\", \"chromecast\", \"clarity\", \"class\", \"color\", \"colour\", \"company\", \"compare\", \"complaint\", \"condition\", \"configuration\", \"connection\", \"connectivity\", \"cons\", \"contact\", \"cool\", \"core\", \"cost\", \"couple\", \"cover\", \"customer\", \"damage\", \"data\", \"date\", \"day\", \"deal\", \"deca\", \"default\", \"defect\", \"delivery\", \"depth\", \"design\", \"device\", \"difference\", \"discharge\", \"display\", \"doesnt\", \"dolby\", \"dont\", \"drain\", \"draining\", \"drawback\", \"earphone\", \"edge\", \"effect\", \"excellent\", \"exchange\", \"expectation\", \"experience\", \"facility\", \"fall\", \"fast\", \"fault\", \"faulty\", \"feature\", \"feel\", \"file\", \"fine\", \"finger\", \"fingerprint\", \"flash\", \"focus\", \"fone\", \"forum\", \"friend\", \"function\", \"future\", \"gallery\", \"game\", \"gaming\", \"glass\", \"good\", \"google\", \"gorilla\", \"guard\", \"gud\", \"guy\", \"hai\", \"half\", \"hand\", \"handset\", \"hang\", \"hanging\", \"hardware\", \"head\", \"headphone\", \"headset\", \"heat\", \"heating\", \"hell\", \"help\", \"hope\", \"hotspot\", \"hour\", \"hours\", \"icon\", \"image\", \"improvement\", \"interface\", \"internet\", \"invoice\", \"issue\", \"item\", \"jack\", \"jio\", \"job\", \"k8note\", \"key\", \"killer\", \"kind\", \"lag\", \"lenovo\", \"let\", \"level\", \"life\", \"light\", \"lock\", \"log\", \"look\", \"lot\", \"lover\", \"mah\", \"mail\", \"management\", \"mark\", \"market\", \"max\", \"mediatek\", \"medium\", \"memory\", \"menu\", \"message\", \"min\", \"mind\", \"minute\", \"mirror\", \"mistake\", \"mob\", \"mobile\", \"mode\", \"model\", \"money\", \"month\", \"motion\", \"moto\", \"movie\", \"music\", \"nahi\", \"need\", \"net\", \"network\", \"nhi\", \"nice\", \"night\", \"note\", \"notification\", \"number\", \"offer\", \"online\", \"option\", \"order\", \"oreo\", \"output\", \"overall\", \"package\", \"par\", \"party\", \"people\", \"percentage\", \"perfect\", \"performance\", \"period\", \"person\", \"phn\", \"phon\", \"phone\", \"photo\", \"photography\", \"pic\", \"picture\", \"piece\", \"play\", \"player\", \"pls\", \"plz\", \"pocket\", \"point\", \"policy\", \"power\", \"price\", \"print\", \"pro\", \"problem\", \"process\", \"processer\", \"processing\", \"processor\", \"product\", \"properly\", \"pros\", \"purchase\", \"quality\", \"ram\", \"range\", \"rate\", \"rating\", \"rear\", \"reason\", \"recorder\", \"recording\", \"redmi\", \"refund\", \"replacement\", \"request\", \"resolution\", \"response\", \"rest\", \"result\", \"return\", \"review\", \"ringtone\", \"rom\", \"sale\", \"samsung\", \"scanner\", \"scratch\", \"screen\", \"second\", \"segment\", \"selfie\", \"seller\", \"sensor\", \"service\", \"set\", \"setting\", \"setup\", \"shot\", \"signal\", \"sim\", \"sims\", \"sir\", \"slot\", \"smartphone\", \"smooth\", \"software\", \"solution\", \"song\", \"sound\", \"space\", \"speaker\", \"spec\", \"specification\", \"speed\", \"standard\", \"standby\", \"star\", \"start\", \"stock\", \"storage\", \"store\", \"strength\", \"suck\", \"super\", \"superb\", \"support\", \"team\", \"temperature\", \"term\", \"test\", \"tha\", \"thank\", \"thanks\", \"thing\", \"till\", \"time\", \"today\", \"tone\", \"touch\", \"turbo\", \"type\", \"update\", \"usage\", \"use\", \"user\", \"value\", \"version\", \"vibe\", \"video\", \"view\", \"voice\", \"volta\", \"volume\", \"warranty\", \"waste\", \"water\", \"way\", \"week\", \"weight\", \"whatsapp\", \"wifi\", \"wise\", \"word\", \"work\", \"working\", \"worth\", \"year\", \"yesterday\", \"youtube\"]}, \"R\": 30, \"lambda.step\": 0.01, \"plot.opts\": {\"xlab\": \"PC1\", \"ylab\": \"PC2\"}, \"topic.order\": [6, 3, 5, 10, 8, 9, 4, 7, 11, 2, 12, 1]};\n",
       "\n",
       "function LDAvis_load_lib(url, callback){\n",
       "  var s = document.createElement('script');\n",
       "  s.src = url;\n",
       "  s.async = true;\n",
       "  s.onreadystatechange = s.onload = callback;\n",
       "  s.onerror = function(){console.warn(\"failed to load library \" + url);};\n",
       "  document.getElementsByTagName(\"head\")[0].appendChild(s);\n",
       "}\n",
       "\n",
       "if(typeof(LDAvis) !== \"undefined\"){\n",
       "   // already loaded: just create the visualization\n",
       "   !function(LDAvis){\n",
       "       new LDAvis(\"#\" + \"ldavis_el1729628292703516482870524045\", ldavis_el1729628292703516482870524045_data);\n",
       "   }(LDAvis);\n",
       "}else if(typeof define === \"function\" && define.amd){\n",
       "   // require.js is available: use it to load d3/LDAvis\n",
       "   require.config({paths: {d3: \"https://d3js.org/d3.v5\"}});\n",
       "   require([\"d3\"], function(d3){\n",
       "      window.d3 = d3;\n",
       "      LDAvis_load_lib(\"https://cdn.jsdelivr.net/gh/bmabey/pyLDAvis@3.3.1/pyLDAvis/js/ldavis.v3.0.0.js\", function(){\n",
       "        new LDAvis(\"#\" + \"ldavis_el1729628292703516482870524045\", ldavis_el1729628292703516482870524045_data);\n",
       "      });\n",
       "    });\n",
       "}else{\n",
       "    // require.js not available: dynamically load d3 & LDAvis\n",
       "    LDAvis_load_lib(\"https://d3js.org/d3.v5.js\", function(){\n",
       "         LDAvis_load_lib(\"https://cdn.jsdelivr.net/gh/bmabey/pyLDAvis@3.3.1/pyLDAvis/js/ldavis.v3.0.0.js\", function(){\n",
       "                 new LDAvis(\"#\" + \"ldavis_el1729628292703516482870524045\", ldavis_el1729628292703516482870524045_data);\n",
       "            })\n",
       "         });\n",
       "}\n",
       "</script>"
      ],
      "text/plain": [
       "PreparedData(topic_coordinates=                x           y  topics  cluster       Freq\n",
       "topic                                                    \n",
       "5        5.310529  171.049652       1        1  10.666850\n",
       "2      136.304657   23.800941       2        1   9.511105\n",
       "4      101.190552  -84.985191       3        1   9.340126\n",
       "9     -106.824867  148.841736       4        1   8.157095\n",
       "7      -44.365761   78.632721       5        1   8.151005\n",
       "8       43.884090   73.474022       6        1   8.093153\n",
       "3      114.093971  135.933029       7        1   7.883295\n",
       "6     -119.727142  -72.077179       8        1   7.804598\n",
       "10     -49.518208   -9.617325       9        1   7.772510\n",
       "1     -141.938736   40.055210      10        1   7.649546\n",
       "11      38.731544  -14.776019      11        1   7.600829\n",
       "0      -10.944340 -107.193344      12        1   7.369890, topic_info=        Term         Freq        Total Category  logprob  loglift\n",
       "436    phone  5889.000000  5889.000000  Default  30.0000  30.0000\n",
       "42   battery  3307.000000  3307.000000  Default  29.0000  29.0000\n",
       "76    camera  3045.000000  3045.000000  Default  28.0000  28.0000\n",
       "473  product  2355.000000  2355.000000  Default  27.0000  27.0000\n",
       "467  problem  1688.000000  1688.000000  Default  26.0000  26.0000\n",
       "..       ...          ...          ...      ...      ...      ...\n",
       "452   pocket    40.907933    41.824051  Topic12  -4.8536   2.5856\n",
       "178     edge    38.640518    39.556637  Topic12  -4.9106   2.5843\n",
       "144  default    36.373104    37.289223  Topic12  -4.9711   2.5829\n",
       "95     check    32.971983    33.888101  Topic12  -5.0692   2.5804\n",
       "567     song    30.704568    31.620687  Topic12  -5.1405   2.5784\n",
       "\n",
       "[390 rows x 6 columns], token_table=      Topic      Freq         Term\n",
       "term                              \n",
       "3         6  0.978439    accessory\n",
       "15        3  0.998742       amazon\n",
       "17        5  0.997374      android\n",
       "19        6  0.995511          app\n",
       "20        3  0.990437  application\n",
       "...     ...       ...          ...\n",
       "668      10  0.971561      working\n",
       "671       1  0.993138        worth\n",
       "677      12  0.988347         year\n",
       "679       2  0.984133    yesterday\n",
       "680       6  0.978265      youtube\n",
       "\n",
       "[360 rows x 3 columns], R=30, lambda_step=0.01, plot_opts={'xlab': 'PC1', 'ylab': 'PC2'}, topic_order=[6, 3, 5, 10, 8, 9, 4, 7, 11, 2, 12, 1])"
      ]
     },
     "execution_count": 37,
     "metadata": {},
     "output_type": "execute_result"
    }
   ],
   "source": [
    "pyLDAvis.enable_notebook()\n",
    "panel = pyLDAvis.sklearn.prepare(lda_model, data_vectorized, vectorizer, mds='tsne')\n",
    "panel"
   ]
  },
  {
   "cell_type": "code",
   "execution_count": null,
   "id": "6a8986c3",
   "metadata": {},
   "outputs": [],
   "source": []
  }
 ],
 "metadata": {
  "kernelspec": {
   "display_name": "Python 3 (ipykernel)",
   "language": "python",
   "name": "python3"
  },
  "language_info": {
   "codemirror_mode": {
    "name": "ipython",
    "version": 3
   },
   "file_extension": ".py",
   "mimetype": "text/x-python",
   "name": "python",
   "nbconvert_exporter": "python",
   "pygments_lexer": "ipython3",
   "version": "3.9.13"
  }
 },
 "nbformat": 4,
 "nbformat_minor": 5
}
